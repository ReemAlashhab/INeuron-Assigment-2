{
 "cells": [
  {
   "cell_type": "markdown",
   "id": "bf107469",
   "metadata": {},
   "source": [
    "1.What are the two values of the Boolean data type? How do you write them?"
   ]
  },
  {
   "cell_type": "markdown",
   "id": "5a984aeb",
   "metadata": {},
   "source": [
    "They are True and False"
   ]
  },
  {
   "cell_type": "markdown",
   "id": "0258ab80",
   "metadata": {},
   "source": [
    "2. What are the three different types of Boolean operators?"
   ]
  },
  {
   "cell_type": "markdown",
   "id": "805ecfef",
   "metadata": {},
   "source": [
    "They are And , Or, and Not."
   ]
  },
  {
   "cell_type": "markdown",
   "id": "ff3c043b",
   "metadata": {},
   "source": [
    "3. Make a list of each Boolean operator's truth tables (i.e. every possible combination of Boolean values for the operator and what it evaluate )."
   ]
  },
  {
   "cell_type": "markdown",
   "id": "07a7a991",
   "metadata": {},
   "source": [
    "For And : True , True = True / True, Flase = False / False , True = False / False, False = False.\n",
    "For Or : True, True = True / True , Flase = True / False , True = True / False , False = Flase.\n",
    "For Not : True = Flase / False = True."
   ]
  },
  {
   "cell_type": "markdown",
   "id": "923aab16",
   "metadata": {},
   "source": [
    "4. What are the values of the following expressions?\n",
    "\n",
    "(5 > 4) and (3 == 5) = ( False )\n",
    "\n",
    "not (5 > 4) = (False )\n",
    "\n",
    "(5 > 4) or (3 == 5) = (True )\n",
    "\n",
    "not ((5 > 4) or (3 == 5)) = (Flase)\n",
    "\n",
    "(True and True) and (True == False)   = ( Flase )\n",
    "\n",
    "(not False) or (not True) = ( True ) \n"
   ]
  },
  {
   "cell_type": "markdown",
   "id": "dfb278b4",
   "metadata": {},
   "source": [
    "5. What are the six comparison operators?"
   ]
  },
  {
   "cell_type": "markdown",
   "id": "290a271b",
   "metadata": {},
   "source": [
    "They include Less than(<), Greater than(>), Less than or equal to(<=), Greater than or equal to(>=), Equal to(==) and Not equal to (!=)"
   ]
  },
  {
   "cell_type": "markdown",
   "id": "dee05953",
   "metadata": {},
   "source": [
    "6. How do you tell the difference between the equal to and assignment operators?Describe a condition and when you would use one."
   ]
  },
  {
   "cell_type": "markdown",
   "id": "75f847fc",
   "metadata": {},
   "source": [
    "The assigment sign (=)  = It is an assignment operator. It is used for assigning the value to a variable.\n",
    "The equal equal sign (==) = It is a relational or comparison operator. It is used for comparing two values.\n",
    "\n",
    "For example : I would use the assigment sign to assign 7 to the variable a ( a = 7).\n",
    "For example : I would use the equal equal sign to compare two values togather ( 5 == 3 ). "
   ]
  },
  {
   "cell_type": "markdown",
   "id": "4d804772",
   "metadata": {},
   "source": [
    "7. Identify the three blocks in this code:\n",
    "\n",
    "\n",
    "( 1 block )\n",
    "spam = 0\n",
    "if spam == 10:\n",
    "print('eggs')\n",
    "\n",
    "(2 block )\n",
    "if spam > 5:\n",
    "print('bacon')\n",
    "\n",
    "( 3 block)\n",
    "else:\n",
    "print('ham')\n",
    "print('spam')\n",
    "print('spam')\n"
   ]
  },
  {
   "cell_type": "markdown",
   "id": "7e045719",
   "metadata": {},
   "source": [
    "8. Write code that prints Hello if 1 is stored in spam, prints Howdy if 2 is stored in spam, and prints Greetings! if anything else is stored in spam."
   ]
  },
  {
   "cell_type": "code",
   "execution_count": 2,
   "id": "be82e48c",
   "metadata": {},
   "outputs": [
    {
     "name": "stdout",
     "output_type": "stream",
     "text": [
      "Hello\n"
     ]
    }
   ],
   "source": [
    "spam = 1\n",
    "\n",
    "if spam == 1 :  \n",
    "    print('Hello')\n",
    "\n",
    "elif spam == 2 :\n",
    "    print('Howdy')\n",
    "    \n",
    "else:\n",
    "    print('Greetings!')"
   ]
  },
  {
   "cell_type": "markdown",
   "id": "262a582a",
   "metadata": {},
   "source": [
    "9.If your programme is stuck in an endless loop, what keys you’ll press?"
   ]
  },
  {
   "cell_type": "markdown",
   "id": "28a4fab1",
   "metadata": {},
   "source": [
    "You'll have to kill the program using Ctrl + C"
   ]
  },
  {
   "cell_type": "markdown",
   "id": "4dfcefd9",
   "metadata": {},
   "source": [
    "10. How can you tell the difference between break and continue?"
   ]
  },
  {
   "cell_type": "markdown",
   "id": "205feafc",
   "metadata": {},
   "source": [
    "The Python break statement stops the loop in which the statement is placed. A Python continue statement skips a single iteration in a loop. Both break and continue statements can be used in a for or a while loop."
   ]
  },
  {
   "cell_type": "markdown",
   "id": "72c79764",
   "metadata": {},
   "source": [
    "11. In a for loop, what is the difference between range(10), range(0, 10), and range(0, 10, 1)?"
   ]
  },
  {
   "cell_type": "markdown",
   "id": "965fd755",
   "metadata": {},
   "source": [
    "There is no difference between ; their values are the same."
   ]
  },
  {
   "cell_type": "markdown",
   "id": "5e26fcb8",
   "metadata": {},
   "source": [
    "12. Write a short program that prints the numbers 1 to 10 using a for loop. Then write an equivalent program that prints the numbers 1 to 10 using a while loop."
   ]
  },
  {
   "cell_type": "code",
   "execution_count": 7,
   "id": "0f2d7a04",
   "metadata": {},
   "outputs": [
    {
     "name": "stdout",
     "output_type": "stream",
     "text": [
      "1\n",
      "2\n",
      "3\n",
      "4\n",
      "5\n",
      "6\n",
      "7\n",
      "8\n",
      "9\n",
      "10\n"
     ]
    }
   ],
   "source": [
    "for number in range(1,11) :\n",
    "    print(number)"
   ]
  },
  {
   "cell_type": "code",
   "execution_count": 11,
   "id": "a625a7f6",
   "metadata": {},
   "outputs": [
    {
     "name": "stdout",
     "output_type": "stream",
     "text": [
      "1\n",
      "2\n",
      "3\n",
      "4\n",
      "5\n",
      "6\n",
      "7\n",
      "8\n",
      "9\n",
      "10\n"
     ]
    }
   ],
   "source": [
    "i = 1\n",
    "while(i<=10):\n",
    "    print(i)\n",
    "    i += 1"
   ]
  },
  {
   "cell_type": "markdown",
   "id": "80727c4d",
   "metadata": {},
   "source": [
    "13. If you had a function named bacon() inside a module named spam, how would you call it after importing spam?"
   ]
  },
  {
   "cell_type": "markdown",
   "id": "5937e12f",
   "metadata": {},
   "source": [
    "spam.bacon()"
   ]
  }
 ],
 "metadata": {
  "kernelspec": {
   "display_name": "Python 3",
   "language": "python",
   "name": "python3"
  },
  "language_info": {
   "codemirror_mode": {
    "name": "ipython",
    "version": 3
   },
   "file_extension": ".py",
   "mimetype": "text/x-python",
   "name": "python",
   "nbconvert_exporter": "python",
   "pygments_lexer": "ipython3",
   "version": "3.8.8"
  }
 },
 "nbformat": 4,
 "nbformat_minor": 5
}
